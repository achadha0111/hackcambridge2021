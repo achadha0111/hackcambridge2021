{
 "cells": [
  {
   "cell_type": "code",
   "execution_count": 3,
   "metadata": {},
   "outputs": [
    {
     "name": "stdout",
     "output_type": "stream",
     "text": [
      "Here's where you can read what the left wingers say: CNN, The New York Times\n",
      "Here's where you can read what the right wingers say: Fox News, The Federalist\n"
     ]
    }
   ],
   "source": [
    "user_rating = [2,4,0,3]\n",
    "\n",
    "# get user ratings for one feed and store it in user_rating\n",
    "\n",
    "actual_rating = [2,1,3,1]\n",
    "\n",
    "# Based on the right answer populate the list\n",
    "\n",
    "for i, j in zip(user_rating, actual_rating):\n",
    "    if i == j and i < 2:\n",
    "        print(\"Awesome! You guessed right! You can read about an opposite perspective by reading these outlets: Fox News, The Federalist\")\n",
    "    elif i == j and i > 2:\n",
    "        print(\"Awesome! You guessed right! You can read about an opposite perspective by reading these outlets: CNN, The New York Times\")\n",
    "    elif i == j and i == 2:\n",
    "        print(\"Awesome! You guessed right! Here's where you can read what the left wingers say: CNN, The New York Times\")\n",
    "        print(\"Awesome! You guessed right! Here's where you can read what the right wingers say: Fox News, The Federalist\")\n",
    "    \n",
    "    # For the case when the iterators are not equal\n",
    "    elif i != j and j > 2:\n",
    "        print(\"Oops, this was a right leaning headline. Here's where you can read what the right wingers say: Fox News, The Federalist\")\n",
    "    \n",
    "    elif i != j and j < 2:\n",
    "        print(\"Oops, this was a left leaning headline. Here's where you can read what the left wingers say: CNN, The New York Times\") \n",
    "    \n",
    "    elif i != j and j == 2:\n",
    "        print(\"That was a neutral headline. Here's where you can read more about them: The Wall Street Journal, Forbes\")\n",
    "        \n",
    "        \n",
    "    "
   ]
  }
 ],
 "metadata": {
  "kernelspec": {
   "display_name": "Python 3",
   "language": "python",
   "name": "python3"
  },
  "language_info": {
   "codemirror_mode": {
    "name": "ipython",
    "version": 3
   },
   "file_extension": ".py",
   "mimetype": "text/x-python",
   "name": "python",
   "nbconvert_exporter": "python",
   "pygments_lexer": "ipython3",
   "version": "3.7.3"
  }
 },
 "nbformat": 4,
 "nbformat_minor": 2
}
